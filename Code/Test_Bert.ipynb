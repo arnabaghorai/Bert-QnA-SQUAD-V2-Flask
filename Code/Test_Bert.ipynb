{
 "cells": [
  {
   "cell_type": "code",
   "execution_count": 2,
   "metadata": {
    "colab": {
     "base_uri": "https://localhost:8080/",
     "height": 402
    },
    "colab_type": "code",
    "id": "bE8i_k648jNm",
    "outputId": "fbaae76d-6a86-40a2-8ea5-a3f3713dba3c"
   },
   "outputs": [
    {
     "name": "stdout",
     "output_type": "stream",
     "text": [
      "Collecting pytorch-pretrained-bert\n",
      "\u001b[?25l  Downloading https://files.pythonhosted.org/packages/d7/e0/c08d5553b89973d9a240605b9c12404bcf8227590de62bae27acbcfe076b/pytorch_pretrained_bert-0.6.2-py3-none-any.whl (123kB)\n",
      "\r",
      "\u001b[K     |██▋                             | 10kB 24.9MB/s eta 0:00:01\r",
      "\u001b[K     |█████▎                          | 20kB 25.1MB/s eta 0:00:01\r",
      "\u001b[K     |████████                        | 30kB 19.8MB/s eta 0:00:01\r",
      "\u001b[K     |██████████▋                     | 40kB 17.7MB/s eta 0:00:01\r",
      "\u001b[K     |█████████████▎                  | 51kB 13.2MB/s eta 0:00:01\r",
      "\u001b[K     |███████████████▉                | 61kB 13.0MB/s eta 0:00:01\r",
      "\u001b[K     |██████████████████▌             | 71kB 12.0MB/s eta 0:00:01\r",
      "\u001b[K     |█████████████████████▏          | 81kB 12.3MB/s eta 0:00:01\r",
      "\u001b[K     |███████████████████████▉        | 92kB 11.9MB/s eta 0:00:01\r",
      "\u001b[K     |██████████████████████████▌     | 102kB 11.8MB/s eta 0:00:01\r",
      "\u001b[K     |█████████████████████████████▏  | 112kB 11.8MB/s eta 0:00:01\r",
      "\u001b[K     |███████████████████████████████▊| 122kB 11.8MB/s eta 0:00:01\r",
      "\u001b[K     |████████████████████████████████| 133kB 11.8MB/s \n",
      "\u001b[?25hRequirement already satisfied: requests in /usr/local/lib/python3.6/dist-packages (from pytorch-pretrained-bert) (2.21.0)\n",
      "Requirement already satisfied: numpy in /usr/local/lib/python3.6/dist-packages (from pytorch-pretrained-bert) (1.18.2)\n",
      "Requirement already satisfied: regex in /usr/local/lib/python3.6/dist-packages (from pytorch-pretrained-bert) (2019.12.20)\n",
      "Requirement already satisfied: boto3 in /usr/local/lib/python3.6/dist-packages (from pytorch-pretrained-bert) (1.12.23)\n",
      "Requirement already satisfied: torch>=0.4.1 in /usr/local/lib/python3.6/dist-packages (from pytorch-pretrained-bert) (1.4.0)\n",
      "Requirement already satisfied: tqdm in /usr/local/lib/python3.6/dist-packages (from pytorch-pretrained-bert) (4.38.0)\n",
      "Requirement already satisfied: urllib3<1.25,>=1.21.1 in /usr/local/lib/python3.6/dist-packages (from requests->pytorch-pretrained-bert) (1.24.3)\n",
      "Requirement already satisfied: idna<2.9,>=2.5 in /usr/local/lib/python3.6/dist-packages (from requests->pytorch-pretrained-bert) (2.8)\n",
      "Requirement already satisfied: chardet<3.1.0,>=3.0.2 in /usr/local/lib/python3.6/dist-packages (from requests->pytorch-pretrained-bert) (3.0.4)\n",
      "Requirement already satisfied: certifi>=2017.4.17 in /usr/local/lib/python3.6/dist-packages (from requests->pytorch-pretrained-bert) (2019.11.28)\n",
      "Requirement already satisfied: botocore<1.16.0,>=1.15.23 in /usr/local/lib/python3.6/dist-packages (from boto3->pytorch-pretrained-bert) (1.15.23)\n",
      "Requirement already satisfied: s3transfer<0.4.0,>=0.3.0 in /usr/local/lib/python3.6/dist-packages (from boto3->pytorch-pretrained-bert) (0.3.3)\n",
      "Requirement already satisfied: jmespath<1.0.0,>=0.7.1 in /usr/local/lib/python3.6/dist-packages (from boto3->pytorch-pretrained-bert) (0.9.5)\n",
      "Requirement already satisfied: docutils<0.16,>=0.10 in /usr/local/lib/python3.6/dist-packages (from botocore<1.16.0,>=1.15.23->boto3->pytorch-pretrained-bert) (0.15.2)\n",
      "Requirement already satisfied: python-dateutil<3.0.0,>=2.1 in /usr/local/lib/python3.6/dist-packages (from botocore<1.16.0,>=1.15.23->boto3->pytorch-pretrained-bert) (2.8.1)\n",
      "Requirement already satisfied: six>=1.5 in /usr/local/lib/python3.6/dist-packages (from python-dateutil<3.0.0,>=2.1->botocore<1.16.0,>=1.15.23->boto3->pytorch-pretrained-bert) (1.12.0)\n",
      "Installing collected packages: pytorch-pretrained-bert\n",
      "Successfully installed pytorch-pretrained-bert-0.6.2\n"
     ]
    }
   ],
   "source": [
    "!pip install pytorch-pretrained-bert\n",
    "\n",
    "\n"
   ]
  },
  {
   "cell_type": "code",
   "execution_count": 0,
   "metadata": {
    "colab": {},
    "colab_type": "code",
    "id": "1GjwFLEA-Kai"
   },
   "outputs": [],
   "source": [
    "%cd Code\n",
    "!pwd\n",
    "\n"
   ]
  },
  {
   "cell_type": "code",
   "execution_count": 8,
   "metadata": {
    "colab": {
     "base_uri": "https://localhost:8080/",
     "height": 680
    },
    "colab_type": "code",
    "id": "xnk8w77g9jK0",
    "outputId": "9820b077-d9da-4e4b-c4d6-0faf4348dc8e"
   },
   "outputs": [
    {
     "name": "stderr",
     "output_type": "stream",
     "text": [
      "100%|██████████| 1/1 [00:00<00:00,  3.50it/s]"
     ]
    },
    {
     "name": "stdout",
     "output_type": "stream",
     "text": [
      "Coronavirus disease 2019 (COVID-19) is an infectious disease caused by the virus strain \"severe acute respiratory syndrome coronavirus 2\" (SARS-CoV-2).The disease was first identified in 2019 in Wuhan, China, and has since spread globally, resulting in the 2019–20 coronavirus pandemic.Common symptoms include fever, cough, and shortness of breath. Muscle pain, sputum production and sore throat are less common.While the majority of cases result in mild symptoms,some progress to severe pneumonia and multi-organ failure.As of 20 March 2020, the rate of deaths per number of diagnosed cases is 4.1%, but ranges from 0.2% to 15% depending on age and other health problems.\n",
      "\n",
      "\n",
      "\u001b[31m***********Question and Answers *************\u001b[0m\n",
      "\u001b[34mWhat is Coronavirus ?\u001b[0m\n",
      "\u001b[5m\u001b[7m\u001b[32man infectious disease\u001b[0m\n",
      "\n",
      "\n",
      "\u001b[34mHow is it caused ?\u001b[0m\n",
      "\u001b[5m\u001b[7m\u001b[32mvirus strain \"severe acute respiratory syndrome coronavirus 2\"\u001b[0m\n",
      "\n",
      "\n",
      "\u001b[34mWhen was the disease first identified ?\u001b[0m\n",
      "\u001b[5m\u001b[7m\u001b[32m2019\u001b[0m\n",
      "\n",
      "\n",
      "\u001b[34mWhere was it first identified ?\u001b[0m\n",
      "\u001b[5m\u001b[7m\u001b[32mWuhan, China\u001b[0m\n",
      "\n",
      "\n",
      "BERT is conceptually simple and empirically powerful. It obtains new state-of-the-art results on eleven natural language processing tasks, including pushing the GLUE benchmark to 80.4% (7.6% absolute improvement), MultiNLI accuracy to 86.7% (5.6% absolute improvement) and the SQuAD v1.1 question answering Test F1 to 93.2 (1.5 absolute improvement), outperforming human performance by 2.0.\n",
      "\n",
      "\n",
      "\u001b[31m***********Question and Answers *************\u001b[0m\n",
      "\u001b[34mWhat does BERT achieves ?\u001b[0m\n",
      "\u001b[5m\u001b[7m\u001b[32mnew state-of-the-art results on eleven natural language processing tasks\u001b[0m\n",
      "\n",
      "\n",
      "\u001b[34mWhat is the BERT's accuracy on MultiNLI ?\u001b[0m\n",
      "\u001b[5m\u001b[7m\u001b[32m86.7%\u001b[0m\n",
      "\n",
      "\n",
      "\u001b[34mWhat is Bert's F1 score on Squad v1.1 ?\u001b[0m\n",
      "\u001b[5m\u001b[7m\u001b[32m93.2\u001b[0m\n",
      "\n",
      "\n"
     ]
    },
    {
     "name": "stderr",
     "output_type": "stream",
     "text": [
      "\n"
     ]
    }
   ],
   "source": [
    "%run Inference.py --paragraph ../Input_file.txt --model '../model/pytorch_model.bin' --config_file ../Results/bert_config.json"
   ]
  }
 ],
 "metadata": {
  "accelerator": "GPU",
  "colab": {
   "collapsed_sections": [],
   "name": "Test_Bert.ipynb",
   "provenance": []
  },
  "kernelspec": {
   "display_name": "Python 3",
   "language": "python",
   "name": "python3"
  },
  "language_info": {
   "codemirror_mode": {
    "name": "ipython",
    "version": 3
   },
   "file_extension": ".py",
   "mimetype": "text/x-python",
   "name": "python",
   "nbconvert_exporter": "python",
   "pygments_lexer": "ipython3",
   "version": "3.7.4"
  }
 },
 "nbformat": 4,
 "nbformat_minor": 1
}
